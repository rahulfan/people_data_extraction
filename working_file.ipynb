{
 "cells": [
  {
   "cell_type": "code",
   "execution_count": null,
   "id": "b046c049",
   "metadata": {},
   "outputs": [],
   "source": [
    "import fitz  # import package PyMuPDF\n",
    "\n",
    "# Open some document, for example a PDF (could also be EPUB, XPS, etc.)\n",
    "doc = fitz.open(r\"C:\\Users\\shiva\\Downloads\\shivam_anaconda\\pdf_extraction\\Rajajinaga 2023 Part 8 Eng.pdf\")\n",
    "\n",
    "zoom = 2 # to increase the resolution\n",
    "mat = fitz.Matrix(zoom, zoom)"
   ]
  },
  {
   "cell_type": "code",
   "execution_count": null,
   "id": "3ab66709",
   "metadata": {},
   "outputs": [],
   "source": [
    "count = 0\n",
    "for page in doc:\n",
    "    pix = page.get_pixmap(matrix = mat)\n",
    "#     pix = page.get_pixmap(dpi = 200)\n",
    "    pix.save(f\".\\data_folder\\_{count}_.png\")\n",
    "    count+=1\n",
    "#     if count>1:\n",
    "#         break\n",
    "    "
   ]
  },
  {
   "cell_type": "code",
   "execution_count": null,
   "id": "186da4b5",
   "metadata": {},
   "outputs": [],
   "source": [
    "import fitz  # import package PyMuPDF\n",
    "\n",
    "# Open some document, for example a PDF (could also be EPUB, XPS, etc.)\n",
    "doc = fitz.open(r\"C:\\Users\\shiva\\Downloads\\shivam_anaconda\\pdf_extraction\\Rajajinaga 2023 Part 8 Kan.pdf\")\n",
    "\n",
    "zoom = 4 # to increase the resolution\n",
    "mat = fitz.Matrix(zoom, zoom)"
   ]
  },
  {
   "cell_type": "code",
   "execution_count": null,
   "id": "e5835739",
   "metadata": {},
   "outputs": [],
   "source": [
    "count = 0\n",
    "for page in doc:\n",
    "    pix = page.get_pixmap(matrix = mat)\n",
    "#     pix = page.get_pixmap(dpi = 200)\n",
    "    pix.save(f\".\\data_folder_kan\\_{count}_.png\")\n",
    "    count+=1\n",
    "#     if count>1:\n",
    "#         break\n",
    "    "
   ]
  },
  {
   "cell_type": "code",
   "execution_count": null,
   "id": "208f46f3",
   "metadata": {},
   "outputs": [],
   "source": [
    "import os\n",
    "from img2table.document import Image\n",
    "from img2table.ocr import TesseractOCR\n",
    "\n",
    "ocr = TesseractOCR(lang=\"eng\")\n",
    "\n",
    "for file in os.listdir(r'./data_folder'):\n",
    "    img1 = os.path.join(r'./data_folder',file)\n",
    "    img = Image(src=img1)\n",
    "    img_tables = img.extract_tables(ocr=ocr)\n",
    "    print(img_tables)\n",
    "    break\n",
    "    \n",
    "    "
   ]
  },
  {
   "cell_type": "code",
   "execution_count": null,
   "id": "470cdbc0",
   "metadata": {},
   "outputs": [],
   "source": [
    "from img2table.ocr import TesseractOCR"
   ]
  },
  {
   "cell_type": "code",
   "execution_count": null,
   "id": "c442dcb3",
   "metadata": {},
   "outputs": [],
   "source": [
    "import pytesseract\n",
    "import cv2"
   ]
  },
  {
   "cell_type": "code",
   "execution_count": null,
   "id": "23783a2c",
   "metadata": {},
   "outputs": [],
   "source": [
    "pytesseract.pytesseract.tesseract_cmd = r\"C:\\Program Files\\Tesseract-OCR\\tesseract.exe\""
   ]
  },
  {
   "cell_type": "code",
   "execution_count": null,
   "id": "6d897e0f",
   "metadata": {},
   "outputs": [],
   "source": [
    "text = pytesseract.image_to_string(cv2.imread(r\"testing.png\"))"
   ]
  },
  {
   "cell_type": "code",
   "execution_count": null,
   "id": "74eba2f9",
   "metadata": {},
   "outputs": [],
   "source": [
    "a = text.split(\"\\n\")\n"
   ]
  },
  {
   "cell_type": "code",
   "execution_count": null,
   "id": "d561bfc6",
   "metadata": {},
   "outputs": [],
   "source": [
    "import re"
   ]
  },
  {
   "cell_type": "code",
   "execution_count": null,
   "id": "de8814d5",
   "metadata": {},
   "outputs": [],
   "source": [
    "print(a)"
   ]
  },
  {
   "cell_type": "code",
   "execution_count": null,
   "id": "c09a5e3d",
   "metadata": {},
   "outputs": [],
   "source": [
    "# id1 = ''\n",
    "# name = ''\n",
    "# father_name = ''\n",
    "# husband_name = ''\n",
    "# house_number = ''\n",
    "# age = ''\n",
    "# gender = ''\n",
    "dict1 = {}\n",
    "last_e = ''\n",
    "for i in a:\n",
    "    j = i.strip()\n",
    "    k = j.lower()\n",
    "    flag=0\n",
    "    if 'W' in j or 'B' in j:\n",
    "        dict1['id'] = j[j.find('WB'):].strip()\n",
    "        flag=1\n",
    "        last_e = 'id'\n",
    "    if 'name' in k and k[0] == 'n':\n",
    "        dict1['name'] = k[k.find('name')+6:].strip()\n",
    "        flag=1\n",
    "        last_e = 'name'\n",
    "    if 'father' in k:\n",
    "        dict1['father_name'] = k[k.find('father')+15:].strip()\n",
    "        flag=1\n",
    "        last_e = 'father_name'\n",
    "    if 'husband' in k:\n",
    "        dict1['husband_name'] = k[k.find('husband')+16:].strip()\n",
    "        flag=1\n",
    "        last_e = 'husband_name'\n",
    "    if 'house' in k:\n",
    "        dict1['house_number'] = k[k.find('house')+14:].strip()\n",
    "        flag=1\n",
    "        last_e = 'house_number'\n",
    "    if 'age' in k:\n",
    "        dict1['age'] = k[k.find('age')+5:k.find('gender')-1].strip()\n",
    "        flag=1\n",
    "        last_e = 'age'\n",
    "    if 'gender' in k:\n",
    "        dict1['gender'] = k[k.find('gender')+8:]\n",
    "        flag=1\n",
    "        last_e = 'house_number'\n",
    "    if flag==0 and len(j)>0:\n",
    "        dict1[last_e] += f' {j}'\n",
    "        \n",
    "\n",
    "        "
   ]
  },
  {
   "cell_type": "code",
   "execution_count": null,
   "id": "83505d2c",
   "metadata": {},
   "outputs": [],
   "source": [
    "print(dict1)"
   ]
  },
  {
   "cell_type": "code",
   "execution_count": null,
   "id": "4a11db12",
   "metadata": {},
   "outputs": [],
   "source": [
    "from img2table.ocr import TesseractOCR\n"
   ]
  },
  {
   "cell_type": "code",
   "execution_count": null,
   "id": "4954fce2",
   "metadata": {},
   "outputs": [],
   "source": [
    "ocr = EasyOCR(lang=[\"en\"],)"
   ]
  },
  {
   "cell_type": "code",
   "execution_count": null,
   "id": "75d274d4",
   "metadata": {},
   "outputs": [],
   "source": [
    "ocr = TesseractOCR(n_threads=1, lang=\"eng\")"
   ]
  },
  {
   "cell_type": "code",
   "execution_count": null,
   "id": "980da152",
   "metadata": {},
   "outputs": [],
   "source": [
    "!pip show Tesseract"
   ]
  },
  {
   "cell_type": "markdown",
   "id": "0a1a9d66",
   "metadata": {},
   "source": [
    "# Language Translation"
   ]
  },
  {
   "cell_type": "code",
   "execution_count": null,
   "id": "1c85622a",
   "metadata": {},
   "outputs": [],
   "source": [
    "from translate import Translator\n",
    "translator= Translator(to_lang=\"Kannada\")\n",
    "translation = translator.translate(\"Shivam Khandelwal\")\n",
    "print(translation)"
   ]
  },
  {
   "cell_type": "code",
   "execution_count": null,
   "id": "1d88e229",
   "metadata": {},
   "outputs": [],
   "source": [
    "from googletrans import Translator\n",
    "\n",
    "def translate_to_kannada(name):\n",
    "    translator = Translator()\n",
    "    translation = translator.translate(name, dest='kn')\n",
    "    return translation.text\n",
    "\n",
    "# Example usage:\n",
    "english_name = \"John\"\n",
    "kannada_name = translate_to_kannada(english_name)\n",
    "print(f\"{english_name} in Kannada is: {kannada_name}\")\n"
   ]
  },
  {
   "cell_type": "code",
   "execution_count": 2,
   "id": "a50586b0",
   "metadata": {},
   "outputs": [
    {
     "name": "stdout",
     "output_type": "stream",
     "text": [
      "Shivam Khandelwal in Kannada is: ಶಿವಂ ಖಂಡೇಲ್ವಾಲ್\n",
      "Alice in Kannada is: ಬಿರಡೆ\n",
      "Bob in Kannada is: ಗಡಿ\n"
     ]
    }
   ],
   "source": [
    "from googletrans import Translator\n",
    "\n",
    "def translate_to_kannada(name):\n",
    "    translator = Translator()\n",
    "    translation = translator.translate(name, dest='kn')\n",
    "    return translation.text\n",
    "\n",
    "def translate_names_to_kannada(names):\n",
    "    kannada_names = [translate_to_kannada(name) for name in names]\n",
    "    return kannada_names\n",
    "\n",
    "# Example usage:\n",
    "english_names = [\"Shivam Khandelwal\", \"Alice\", \"Bob\"]\n",
    "kannada_names = translate_names_to_kannada(english_names)\n",
    "\n",
    "for eng_name, kn_name in zip(english_names, kannada_names):\n",
    "    print(f\"{eng_name} in Kannada is: {kn_name}\")\n"
   ]
  },
  {
   "cell_type": "code",
   "execution_count": null,
   "id": "c91edd99",
   "metadata": {},
   "outputs": [],
   "source": []
  }
 ],
 "metadata": {
  "kernelspec": {
   "display_name": "Python 3 (ipykernel)",
   "language": "python",
   "name": "python3"
  },
  "language_info": {
   "codemirror_mode": {
    "name": "ipython",
    "version": 3
   },
   "file_extension": ".py",
   "mimetype": "text/x-python",
   "name": "python",
   "nbconvert_exporter": "python",
   "pygments_lexer": "ipython3",
   "version": "3.11.5"
  }
 },
 "nbformat": 4,
 "nbformat_minor": 5
}
