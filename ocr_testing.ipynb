{
 "cells": [
  {
   "cell_type": "code",
   "execution_count": null,
   "id": "06217e99",
   "metadata": {},
   "outputs": [],
   "source": [
    "import keras_ocr \n",
    "import cv2\n",
    "\n",
    "pipeline = keras_ocr.pipeline.Pipeline()\n",
    "\n",
    "images = [\n",
    "    cv2.imread('testing.png')\n",
    "]\n",
    "\n",
    "\n",
    "prediction_groups = pipeline.recognize(images)\n",
    "\n",
    "for i in prediction_groups:\n",
    "    for y in i:\n",
    "        print(y[0])\n",
    "        print(y[1])\n",
    "\n",
    "# predicted_image_1 = prediction_groups[0]\n",
    "# for text, box in predicted_image_1:\n",
    "#     print(text)\n"
   ]
  },
  {
   "cell_type": "code",
   "execution_count": 2,
   "id": "3f5f9a94",
   "metadata": {},
   "outputs": [
    {
     "name": "stdout",
     "output_type": "stream",
     "text": [
      "['eng', 'osd']\n"
     ]
    }
   ],
   "source": [
    "import pytesseract\n",
    "pytesseract.pytesseract.tesseract_cmd = r\"C:\\Program Files\\Tesseract-OCR\\tesseract.exe\"\n",
    "print(pytesseract.get_languages(config=''))"
   ]
  },
  {
   "cell_type": "code",
   "execution_count": null,
   "id": "c0494510",
   "metadata": {},
   "outputs": [],
   "source": [
    "cv2.imread('testing.png').shape"
   ]
  },
  {
   "cell_type": "code",
   "execution_count": null,
   "id": "2c9c5f55",
   "metadata": {},
   "outputs": [],
   "source": [
    "print(type(prediction_groups))"
   ]
  },
  {
   "cell_type": "code",
   "execution_count": null,
   "id": "c49a7d74",
   "metadata": {},
   "outputs": [],
   "source": [
    "new = sorted(prediction_groups[0],key=lambda x:x[1][0][0])\n",
    "new = sorted(new,key=lambda x:x[1][0][1])\n",
    "\n",
    "print(new)\n",
    "# for i in new:\n",
    "#     print(i)\n",
    "#     for y in i:\n",
    "#         print(y[0])\n",
    "#         print(y[1])\n"
   ]
  },
  {
   "cell_type": "code",
   "execution_count": null,
   "id": "b048af50",
   "metadata": {},
   "outputs": [],
   "source": [
    "new_boxes = []\n",
    "y_thresh = 50\n",
    "x_thresh = 50\n",
    "\n",
    "mapping_dict_x = {}\n",
    "mapping_dict_y = {}\n",
    "\n",
    "p_x = 0\n",
    "p_y = 0\n",
    "sorted_x = sorted(prediction_groups[0],key=lambda x:x[1][0][0])\n",
    "sorted_y = sorted(prediction_groups[0],key=lambda x:x[1][0][1])\n",
    "\n",
    "\n",
    "for i in sorted_x:\n",
    "    x = i[1][0][0]\n",
    "    flag = 0\n",
    "    for j in mapping_dict_x.keys():\n",
    "        if abs(x-j)<=x_thresh:\n",
    "            p_x = mapping_dict_x[j]\n",
    "            mapping_dict_x[x] = p_x\n",
    "            flag=1\n",
    "            break\n",
    "    if flag==0:\n",
    "        mapping_dict_x[x] = p_x\n",
    "        p_x+=1\n",
    "\n",
    "for i in sorted_y:        \n",
    "    y = i[1][0][1]\n",
    "    flag = 0\n",
    "    for j in mapping_dict_y.keys():\n",
    "        if abs(y-j)<=y_thresh:\n",
    "            p_y = mapping_dict_y[j]\n",
    "            mapping_dict_y[y] = p_y\n",
    "            flag=1\n",
    "            break\n",
    "    if flag==0:\n",
    "        mapping_dict_y[y] = p_y\n",
    "        p_y+=1\n",
    "\n",
    "new_box = []\n",
    "for i in prediction_groups[0]:\n",
    "    new_box.append([i[0],[mapping_dict_x[i[1][0][0]],mapping_dict_y[i[1][0][1]]]])\n",
    "        \n",
    "print(new_box)  \n",
    "\n",
    "new_box = sorted(new_box,key=lambda x:x[1][0])\n",
    "new_box = sorted(new_box,key=lambda x:x[1][1])\n",
    "print(new_box)  \n"
   ]
  },
  {
   "cell_type": "code",
   "execution_count": null,
   "id": "9b8a5811",
   "metadata": {},
   "outputs": [],
   "source": [
    "new_box_f = new_box[1:]\n",
    "dict_temp = {}\n",
    "dict_temp['id'] = new_box_f[0][0]\n",
    "dict_temp['name'] = new_box_f[2][0]\n",
    "dict_temp['fathers name'] = new_box[8][0]\n",
    "dict_temp['house_number'] = new_box[12][0]\n",
    "dict_temp['age'] = new_box[15][0]\n",
    "dict_temp['gender'] = new_box[18][0]\n",
    "\n",
    "print(dict_temp)"
   ]
  },
  {
   "cell_type": "code",
   "execution_count": null,
   "id": "2edcbfec",
   "metadata": {},
   "outputs": [],
   "source": [
    "    x = i[1][0][0]\n",
    "    y = i[1][0][1]\n",
    "    flag = 0\n",
    "    for j in mapping_dict_x.keys():\n",
    "        if abs(x-j)<=x_thresh:\n",
    "            p_x = mapping_dict_x[j]\n",
    "            mapping_dict_x[x] = p_x\n",
    "            flag=1\n",
    "            break\n",
    "    if flag==0:\n",
    "        mapping_dict_x[x] = p_x\n",
    "        p_x+=1\n",
    "    flag = 0\n",
    "    for j in mapping_dict_y.keys():\n",
    "        if abs(y-j)<=y_thresh:\n",
    "            p_y = mapping_dict_y[j]\n",
    "            mapping_dict_y[y] = p_y\n",
    "            flag=1\n",
    "            break\n",
    "    if flag==0:\n",
    "        mapping_dict_y[y] = p_y\n",
    "        p_y+=1\n",
    "\n",
    "new_box = []\n",
    "for i in prediction_groups[0]:\n",
    "    new_box.append([i[0],[mapping_dict_x[i[1][0][0]],mapping_dict_y[i[1][0][1]]]])\n",
    "        \n",
    "print(new_box)    \n",
    "    \n"
   ]
  },
  {
   "cell_type": "code",
   "execution_count": null,
   "id": "ee234327",
   "metadata": {},
   "outputs": [],
   "source": [
    "mapping_dict_x"
   ]
  },
  {
   "cell_type": "code",
   "execution_count": null,
   "id": "0a038921",
   "metadata": {},
   "outputs": [],
   "source": [
    "print(len(prediction_groups[0]))"
   ]
  },
  {
   "cell_type": "code",
   "execution_count": null,
   "id": "4b1bf937",
   "metadata": {},
   "outputs": [],
   "source": [
    "print(prediction_groups[0])"
   ]
  },
  {
   "cell_type": "code",
   "execution_count": 2,
   "id": "40c6ac30",
   "metadata": {},
   "outputs": [
    {
     "ename": "ImportError",
     "evalue": "cannot import name 'DigitalSignatureError' from 'ocrmypdf.exceptions' (C:\\Users\\shiva\\anaconda3\\Lib\\site-packages\\ocrmypdf\\exceptions.py)",
     "output_type": "error",
     "traceback": [
      "\u001b[1;31m---------------------------------------------------------------------------\u001b[0m",
      "\u001b[1;31mImportError\u001b[0m                               Traceback (most recent call last)",
      "Cell \u001b[1;32mIn[2], line 1\u001b[0m\n\u001b[1;32m----> 1\u001b[0m \u001b[38;5;28;01mimport\u001b[39;00m \u001b[38;5;21;01mocrmypdf\u001b[39;00m\n\u001b[0;32m      2\u001b[0m \u001b[38;5;28;01mdef\u001b[39;00m \u001b[38;5;21mscannedPdfConverter\u001b[39m(file_path, save_path):\n\u001b[0;32m      3\u001b[0m     ocrmypdf\u001b[38;5;241m.\u001b[39mocr(file_path, save_path, skip_text\u001b[38;5;241m=\u001b[39m\u001b[38;5;28;01mTrue\u001b[39;00m)\n",
      "File \u001b[1;32m~\\anaconda3\\Lib\\site-packages\\ocrmypdf\\__init__.py:13\u001b[0m\n\u001b[0;32m     11\u001b[0m \u001b[38;5;28;01mfrom\u001b[39;00m \u001b[38;5;21;01mocrmypdf\u001b[39;00m\u001b[38;5;21;01m.\u001b[39;00m\u001b[38;5;21;01m_concurrent\u001b[39;00m \u001b[38;5;28;01mimport\u001b[39;00m Executor\n\u001b[0;32m     12\u001b[0m \u001b[38;5;28;01mfrom\u001b[39;00m \u001b[38;5;21;01mocrmypdf\u001b[39;00m\u001b[38;5;21;01m.\u001b[39;00m\u001b[38;5;21;01m_jobcontext\u001b[39;00m \u001b[38;5;28;01mimport\u001b[39;00m PageContext, PdfContext\n\u001b[1;32m---> 13\u001b[0m \u001b[38;5;28;01mfrom\u001b[39;00m \u001b[38;5;21;01mocrmypdf\u001b[39;00m\u001b[38;5;21;01m.\u001b[39;00m\u001b[38;5;21;01m_version\u001b[39;00m \u001b[38;5;28;01mimport\u001b[39;00m PROGRAM_NAME, __version__\n\u001b[0;32m     14\u001b[0m \u001b[38;5;28;01mfrom\u001b[39;00m \u001b[38;5;21;01mocrmypdf\u001b[39;00m\u001b[38;5;21;01m.\u001b[39;00m\u001b[38;5;21;01mapi\u001b[39;00m \u001b[38;5;28;01mimport\u001b[39;00m Verbosity, configure_logging, ocr\n\u001b[0;32m     15\u001b[0m \u001b[38;5;28;01mfrom\u001b[39;00m \u001b[38;5;21;01mocrmypdf\u001b[39;00m\u001b[38;5;21;01m.\u001b[39;00m\u001b[38;5;21;01mexceptions\u001b[39;00m \u001b[38;5;28;01mimport\u001b[39;00m (\n\u001b[0;32m     16\u001b[0m     BadArgsError,\n\u001b[0;32m     17\u001b[0m     DpiError,\n\u001b[1;32m   (...)\u001b[0m\n\u001b[0;32m     28\u001b[0m     UnsupportedImageFormatError,\n\u001b[0;32m     29\u001b[0m )\n",
      "File \u001b[1;32m~\\anaconda3\\Lib\\site-packages\\ocrmypdf\\_pipelines\\_common.py:28\u001b[0m\n\u001b[0;32m     26\u001b[0m \u001b[38;5;28;01mfrom\u001b[39;00m \u001b[38;5;21;01mocrmypdf\u001b[39;00m\u001b[38;5;21;01m.\u001b[39;00m\u001b[38;5;21;01m_logging\u001b[39;00m \u001b[38;5;28;01mimport\u001b[39;00m PageNumberFilter\n\u001b[0;32m     27\u001b[0m \u001b[38;5;28;01mfrom\u001b[39;00m \u001b[38;5;21;01mocrmypdf\u001b[39;00m\u001b[38;5;21;01m.\u001b[39;00m\u001b[38;5;21;01m_metadata\u001b[39;00m \u001b[38;5;28;01mimport\u001b[39;00m metadata_fixup\n\u001b[1;32m---> 28\u001b[0m \u001b[38;5;28;01mfrom\u001b[39;00m \u001b[38;5;21;01mocrmypdf\u001b[39;00m\u001b[38;5;21;01m.\u001b[39;00m\u001b[38;5;21;01m_pipeline\u001b[39;00m \u001b[38;5;28;01mimport\u001b[39;00m (\n\u001b[0;32m     29\u001b[0m     convert_to_pdfa,\n\u001b[0;32m     30\u001b[0m     create_ocr_image,\n\u001b[0;32m     31\u001b[0m     create_pdf_page_from_image,\n\u001b[0;32m     32\u001b[0m     create_visible_page_jpg,\n\u001b[0;32m     33\u001b[0m     generate_postscript_stub,\n\u001b[0;32m     34\u001b[0m     get_orientation_correction,\n\u001b[0;32m     35\u001b[0m     get_pdf_save_settings,\n\u001b[0;32m     36\u001b[0m     optimize_pdf,\n\u001b[0;32m     37\u001b[0m     preprocess_clean,\n\u001b[0;32m     38\u001b[0m     preprocess_deskew,\n\u001b[0;32m     39\u001b[0m     preprocess_remove_background,\n\u001b[0;32m     40\u001b[0m     rasterize,\n\u001b[0;32m     41\u001b[0m     rasterize_preview,\n\u001b[0;32m     42\u001b[0m     should_linearize,\n\u001b[0;32m     43\u001b[0m     should_visible_page_image_use_jpg,\n\u001b[0;32m     44\u001b[0m )\n\u001b[0;32m     45\u001b[0m \u001b[38;5;28;01mfrom\u001b[39;00m \u001b[38;5;21;01mocrmypdf\u001b[39;00m\u001b[38;5;21;01m.\u001b[39;00m\u001b[38;5;21;01m_plugin_manager\u001b[39;00m \u001b[38;5;28;01mimport\u001b[39;00m OcrmypdfPluginManager\n\u001b[0;32m     46\u001b[0m \u001b[38;5;28;01mfrom\u001b[39;00m \u001b[38;5;21;01mocrmypdf\u001b[39;00m\u001b[38;5;21;01m.\u001b[39;00m\u001b[38;5;21;01m_validation\u001b[39;00m \u001b[38;5;28;01mimport\u001b[39;00m (\n\u001b[0;32m     47\u001b[0m     report_output_file_size,\n\u001b[0;32m     48\u001b[0m )\n",
      "File \u001b[1;32m~\\anaconda3\\Lib\\site-packages\\ocrmypdf\\_pipeline.py:27\u001b[0m\n\u001b[0;32m     25\u001b[0m \u001b[38;5;28;01mfrom\u001b[39;00m \u001b[38;5;21;01mocrmypdf\u001b[39;00m\u001b[38;5;21;01m.\u001b[39;00m\u001b[38;5;21;01m_jobcontext\u001b[39;00m \u001b[38;5;28;01mimport\u001b[39;00m PageContext, PdfContext\n\u001b[0;32m     26\u001b[0m \u001b[38;5;28;01mfrom\u001b[39;00m \u001b[38;5;21;01mocrmypdf\u001b[39;00m\u001b[38;5;21;01m.\u001b[39;00m\u001b[38;5;21;01m_metadata\u001b[39;00m \u001b[38;5;28;01mimport\u001b[39;00m repair_docinfo_nuls\n\u001b[1;32m---> 27\u001b[0m \u001b[38;5;28;01mfrom\u001b[39;00m \u001b[38;5;21;01mocrmypdf\u001b[39;00m\u001b[38;5;21;01m.\u001b[39;00m\u001b[38;5;21;01mexceptions\u001b[39;00m \u001b[38;5;28;01mimport\u001b[39;00m (\n\u001b[0;32m     28\u001b[0m     DigitalSignatureError,\n\u001b[0;32m     29\u001b[0m     DpiError,\n\u001b[0;32m     30\u001b[0m     EncryptedPdfError,\n\u001b[0;32m     31\u001b[0m     InputFileError,\n\u001b[0;32m     32\u001b[0m     PriorOcrFoundError,\n\u001b[0;32m     33\u001b[0m     TaggedPDFError,\n\u001b[0;32m     34\u001b[0m     UnsupportedImageFormatError,\n\u001b[0;32m     35\u001b[0m )\n\u001b[0;32m     36\u001b[0m \u001b[38;5;28;01mfrom\u001b[39;00m \u001b[38;5;21;01mocrmypdf\u001b[39;00m\u001b[38;5;21;01m.\u001b[39;00m\u001b[38;5;21;01mhelpers\u001b[39;00m \u001b[38;5;28;01mimport\u001b[39;00m IMG2PDF_KWARGS, Resolution, safe_symlink\n\u001b[0;32m     37\u001b[0m \u001b[38;5;28;01mfrom\u001b[39;00m \u001b[38;5;21;01mocrmypdf\u001b[39;00m\u001b[38;5;21;01m.\u001b[39;00m\u001b[38;5;21;01mhocrtransform\u001b[39;00m \u001b[38;5;28;01mimport\u001b[39;00m HocrTransform\n",
      "\u001b[1;31mImportError\u001b[0m: cannot import name 'DigitalSignatureError' from 'ocrmypdf.exceptions' (C:\\Users\\shiva\\anaconda3\\Lib\\site-packages\\ocrmypdf\\exceptions.py)"
     ]
    }
   ],
   "source": [
    "import ocrmypdf\n",
    "def scannedPdfConverter(file_path, save_path):\n",
    "    ocrmypdf.ocr(file_path, save_path, skip_text=True)\n",
    "    print('File converted successfully!')"
   ]
  },
  {
   "cell_type": "code",
   "execution_count": 3,
   "id": "2b2549c4",
   "metadata": {},
   "outputs": [
    {
     "ename": "NameError",
     "evalue": "name 'scannedPdfConverter' is not defined",
     "output_type": "error",
     "traceback": [
      "\u001b[1;31m---------------------------------------------------------------------------\u001b[0m",
      "\u001b[1;31mNameError\u001b[0m                                 Traceback (most recent call last)",
      "Cell \u001b[1;32mIn[3], line 1\u001b[0m\n\u001b[1;32m----> 1\u001b[0m scannedPdfConverter(\u001b[38;5;124mr\u001b[39m\u001b[38;5;124m\"\u001b[39m\u001b[38;5;124mC:\u001b[39m\u001b[38;5;124m\\\u001b[39m\u001b[38;5;124mUsers\u001b[39m\u001b[38;5;124m\\\u001b[39m\u001b[38;5;124mshiva\u001b[39m\u001b[38;5;124m\\\u001b[39m\u001b[38;5;124mDownloads\u001b[39m\u001b[38;5;124m\\\u001b[39m\u001b[38;5;124mshivam_anaconda\u001b[39m\u001b[38;5;124m\\\u001b[39m\u001b[38;5;124mpdf_extraction\u001b[39m\u001b[38;5;124m\\\u001b[39m\u001b[38;5;124mRajajinaga 2023 Part 8 Eng.pdf\u001b[39m\u001b[38;5;124m\"\u001b[39m, \u001b[38;5;124m'\u001b[39m\u001b[38;5;124mtesting.pdf\u001b[39m\u001b[38;5;124m'\u001b[39m)\n",
      "\u001b[1;31mNameError\u001b[0m: name 'scannedPdfConverter' is not defined"
     ]
    }
   ],
   "source": [
    "scannedPdfConverter(r\"C:\\Users\\shiva\\Downloads\\shivam_anaconda\\pdf_extraction\\Rajajinaga 2023 Part 8 Eng.pdf\", 'testing.pdf')"
   ]
  },
  {
   "cell_type": "code",
   "execution_count": null,
   "id": "f9f7894b",
   "metadata": {},
   "outputs": [],
   "source": []
  }
 ],
 "metadata": {
  "kernelspec": {
   "display_name": "Python 3 (ipykernel)",
   "language": "python",
   "name": "python3"
  },
  "language_info": {
   "codemirror_mode": {
    "name": "ipython",
    "version": 3
   },
   "file_extension": ".py",
   "mimetype": "text/x-python",
   "name": "python",
   "nbconvert_exporter": "python",
   "pygments_lexer": "ipython3",
   "version": "3.11.5"
  }
 },
 "nbformat": 4,
 "nbformat_minor": 5
}
